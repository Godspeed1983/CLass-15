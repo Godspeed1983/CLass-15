{
  "nbformat": 4,
  "nbformat_minor": 0,
  "metadata": {
    "colab": {
      "provenance": [],
      "include_colab_link": true
    },
    "kernelspec": {
      "name": "python3",
      "display_name": "Python 3"
    },
    "language_info": {
      "name": "python"
    }
  },
  "cells": [
    {
      "cell_type": "markdown",
      "metadata": {
        "id": "view-in-github",
        "colab_type": "text"
      },
      "source": [
        "<a href=\"https://colab.research.google.com/github/Godspeed1983/CLass-15/blob/main/c133_1_4.ipynb\" target=\"_parent\"><img src=\"https://colab.research.google.com/assets/colab-badge.svg\" alt=\"Open In Colab\"/></a>"
      ]
    },
    {
      "cell_type": "code",
      "execution_count": null,
      "metadata": {
        "colab": {
          "base_uri": "https://localhost:8080/"
        },
        "id": "1GdnOS8QIGYc",
        "outputId": "4c3ee8fb-a8ec-4116-d56c-78196d86bff0"
      },
      "outputs": [
        {
          "output_type": "stream",
          "name": "stdout",
          "text": [
            " * Serving Flask app '__main__'\n",
            " * Debug mode: on\n"
          ]
        },
        {
          "output_type": "stream",
          "name": "stderr",
          "text": [
            "INFO:werkzeug:\u001b[31m\u001b[1mWARNING: This is a development server. Do not use it in a production deployment. Use a production WSGI server instead.\u001b[0m\n",
            " * Running on http://127.0.0.1:5000\n",
            "INFO:werkzeug:\u001b[33mPress CTRL+C to quit\u001b[0m\n",
            "INFO:werkzeug: * Restarting with stat\n"
          ]
        }
      ],
      "source": [
        "#Importing flask module in the project\n",
        "from flask import Flask\n",
        "\n",
        "#Create an object of the Flask class\n",
        "app= Flask(__name__)\n",
        "\n",
        "#The route() function of the Flask class\n",
        "@app.route(\"/\")\n",
        "\n",
        "\n",
        "#‘/’ URL is bound with first_flask function.\n",
        "def first_flask():\n",
        "    return \"This is my first Flask Program\"\n",
        "\n",
        "\n",
        "#Define a function with different endpoint\n",
        "@app.route(\"/flask2\")\n",
        "\n",
        "def second_flask():\n",
        "    return \"Python is Fun !\"\n",
        "\n",
        "@app.route(\"/page3\")\n",
        "\n",
        "def third_flask():\n",
        "    return \"I love coding\"\n",
        "\n",
        "\n",
        "#run using debug argument\n",
        "app.run(debug=True)\n",
        "\n"
      ]
    }
  ]
}